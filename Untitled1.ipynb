{
 "cells": [
  {
   "cell_type": "code",
   "execution_count": 35,
   "metadata": {},
   "outputs": [
    {
     "name": "stdout",
     "output_type": "stream",
     "text": [
      "https://www.jpl.nasa.gov/spaceimages/images/largesize/PIA18640_hires.jpg\n"
     ]
    }
   ],
   "source": [
    "#Dependencies\n",
    "from splinter import Browser\n",
    "from bs4 import BeautifulSoup\n",
    "import requests\n",
    "import pymongo\n",
    "import tweepy\n",
    "import json\n",
    "import pandas as pd\n",
    "from config import consumer_key, consumer_secret, access_token, access_token_secret\n",
    "from collections import OrderedDict\n",
    "import time \n",
    "\n",
    "def init_browser():\n",
    "    executable_path = {\"executable_path\": \"/Users/stefa/chromedriver.exe\"}\n",
    "    return Browser(\"chrome\", **executable_path, headless=False)\n",
    "\n",
    "\n",
    "browser = init_browser()\n",
    "\n",
    "# visit https://www.jpl.nasa.gov/spaceimages/?search=&category=Mars\n",
    "mars_jpl = \"https://www.jpl.nasa.gov/spaceimages/?search=&category=Mars\"\n",
    "browser.visit(mars_jpl)\n",
    "\n",
    "#store the html in a variable called html    \n",
    "html = browser.html\n",
    "\n",
    "#click on the button that says \"FULL IMAGE\"\n",
    "browser.click_link_by_partial_text('FULL IMAGE')\n",
    "\n",
    "time.sleep(2)\n",
    "\n",
    "#now click on the link that says \"more info\"\n",
    "browser.click_link_by_partial_text('more info')\n",
    "\n",
    "time.sleep(2)\n",
    "\n",
    "#we're on a new page so we need to scrape the html again\n",
    "new_html = browser.html\n",
    "\n",
    "#make a beautifulsoup object for the more info page\n",
    "soup = BeautifulSoup(new_html, \"html.parser\")\n",
    "\n",
    "image_detail = soup.find('img', class_='main_image')\n",
    "\n",
    "full_res_jpeg = image_detail.get('src')\n",
    "\n",
    "#now append the jpl nasa front end link\n",
    "jpl = \"https://www.jpl.nasa.gov\"\n",
    "\n",
    "featured_image_url = jpl + full_res_jpeg\n",
    "\n",
    "print(featured_image_url)\n"
   ]
  },
  {
   "cell_type": "code",
   "execution_count": null,
   "metadata": {},
   "outputs": [],
   "source": []
  }
 ],
 "metadata": {
  "kernelspec": {
   "display_name": "Python [conda env:PythonData]",
   "language": "python",
   "name": "conda-env-PythonData-py"
  },
  "language_info": {
   "codemirror_mode": {
    "name": "ipython",
    "version": 3
   },
   "file_extension": ".py",
   "mimetype": "text/x-python",
   "name": "python",
   "nbconvert_exporter": "python",
   "pygments_lexer": "ipython3",
   "version": "3.6.5"
  }
 },
 "nbformat": 4,
 "nbformat_minor": 2
}
