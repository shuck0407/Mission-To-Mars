{
 "cells": [
  {
   "cell_type": "markdown",
   "metadata": {},
   "source": [
    "## Stefanie Huckleberry's Mission to Mars"
   ]
  },
  {
   "cell_type": "code",
   "execution_count": 19,
   "metadata": {},
   "outputs": [],
   "source": [
    "#Dependencies\n",
    "from splinter import Browser\n",
    "from bs4 import BeautifulSoup\n",
    "import requests\n",
    "import pymongo"
   ]
  },
  {
   "cell_type": "code",
   "execution_count": 25,
   "metadata": {},
   "outputs": [],
   "source": [
    "#Function to set up the path to the chromedriver.exe for splinter to use\n",
    "\n",
    "def init_browser():\n",
    "    executable_path = {\"executable_path\": \"/Users/stefa/chromedriver.exe\"}\n",
    "    return Browser(\"chrome\", **executable_path, headless=False)\n",
    "\n",
    "\n",
    "\n",
    "\n",
    "\n"
   ]
  },
  {
   "cell_type": "markdown",
   "metadata": {},
   "source": [
    "## Scrape Nasa for Mars Headlines and Text"
   ]
  },
  {
   "cell_type": "code",
   "execution_count": 40,
   "metadata": {},
   "outputs": [],
   "source": [
    "#Function to scrape the Nasa website for the latest news headline\n",
    "\n",
    "def scrape_mars_headline():\n",
    "    browser = init_browser()\n",
    "      \n",
    "    # visit https://mars.nasa.gov/news/\n",
    "    mars_news = \"https://mars.nasa.gov/news/\"\n",
    "    browser.visit(mars_news)\n",
    "    \n",
    "    #store the html in a variable called html    \n",
    "    html = browser.html\n",
    "\n",
    "    # create a soup object from the html.  This will parse the html we pulled from Nasa website.\n",
    "    soup = BeautifulSoup(html, \"html.parser\")\n",
    "   \n",
    "\n",
    "    #Get the latest article posted on the site.  The list_text class has the headline,\n",
    "    # date, and a blurb about the article - \"a teaser\"\n",
    "    \n",
    "    mars_article = soup.find('div', class_='list_text')\n",
    "\n",
    "    #Now that we have the article, we can get the headline, blurb, and date\n",
    "    mars_headline = mars_article.find('div', class_='content_title').text\n",
    "    mars_teaser = mars_article.find('div', class_='article_teaser_body').text\n",
    "    mars_news_date = mars_article.find('div', class_='list_date').text\n",
    "    \n",
    "    return mars_headline, mars_teaser, mars_news_date       \n",
    "  "
   ]
  },
  {
   "cell_type": "markdown",
   "metadata": {},
   "source": [
    "## Store the Mars article\n",
    "\n"
   ]
  },
  {
   "cell_type": "code",
   "execution_count": 41,
   "metadata": {},
   "outputs": [
    {
     "name": "stdout",
     "output_type": "stream",
     "text": [
      "NASA's InSight Will Study Mars While Standing Still\n",
      "The lander's unique science can teach us how planets are born.\n",
      "October 24, 2018\n"
     ]
    }
   ],
   "source": [
    "#Call the scrape function and unpack the tuple\n",
    "\n",
    "headline, news, date = scrape_mars_headline()\n",
    "\n",
    "print(headline)\n",
    "print(news)\n",
    "print(date)\n",
    "\n",
    "\n",
    "#Create a dictionary that has the headline and it's corresponding text and date\n",
    "\n",
    "mars_news_dict = {'headline' : headline, 'teaser' : news, 'date' : date}\n",
    "\n",
    "#print(mars_news_dict)\n",
    "\n",
    "\n"
   ]
  },
  {
   "cell_type": "markdown",
   "metadata": {},
   "source": [
    "# JPL Mars Space Images - Featured Image"
   ]
  },
  {
   "cell_type": "code",
   "execution_count": 63,
   "metadata": {},
   "outputs": [],
   "source": [
    "#Function to scrape the JPL website for an image of Mars\n",
    "\n",
    "def scrape_JPL_image():\n",
    "    \n",
    "    browser = init_browser()\n",
    "      \n",
    "    # visit https://www.jpl.nasa.gov/spaceimages/?search=&category=Mars\n",
    "    mars_jpl = \"https://www.jpl.nasa.gov/spaceimages/?search=&category=Mars\"\n",
    "    browser.visit(mars_jpl)\n",
    "    \n",
    "    #store the html in a variable called html    \n",
    "    html = browser.html\n",
    "\n",
    "    # create a soup object from the html.  This will parse the html we pulled from Nasa website.\n",
    "    soup = BeautifulSoup(html, \"html.parser\")\n",
    "    \n",
    "    #Get the URL for the featured image-full size\n",
    "     \n",
    "    full_size_url = soup.find('a', class_='button fancybox').get('data-fancybox-href')\n",
    "    \n",
    "    \n",
    "    #this returns a link to the jpeg, but the front end https://www.jpl.nasa.gov piece is missing\n",
    "    \n",
    "    return full_size_url\n",
    "    \n"
   ]
  },
  {
   "cell_type": "code",
   "execution_count": 64,
   "metadata": {},
   "outputs": [
    {
     "name": "stdout",
     "output_type": "stream",
     "text": [
      "https://www.jpl.nasa.gov/spaceimages/images/mediumsize/PIA00069_ip.jpg\n"
     ]
    }
   ],
   "source": [
    "mars_image_url = scrape_JPL_image()\n",
    "\n",
    "#append the front end of the website onto the url\n",
    "mars_image_url = \"https://www.jpl.nasa.gov\" + mars_image_url\n",
    "\n",
    "print(mars_image_url)\n",
    "\n",
    "\n"
   ]
  },
  {
   "cell_type": "code",
   "execution_count": null,
   "metadata": {},
   "outputs": [],
   "source": []
  }
 ],
 "metadata": {
  "kernelspec": {
   "display_name": "Python [conda env:PythonData]",
   "language": "python",
   "name": "conda-env-PythonData-py"
  },
  "language_info": {
   "codemirror_mode": {
    "name": "ipython",
    "version": 3
   },
   "file_extension": ".py",
   "mimetype": "text/x-python",
   "name": "python",
   "nbconvert_exporter": "python",
   "pygments_lexer": "ipython3",
   "version": "3.6.5"
  }
 },
 "nbformat": 4,
 "nbformat_minor": 2
}
