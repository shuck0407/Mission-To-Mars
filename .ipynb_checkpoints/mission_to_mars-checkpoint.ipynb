{
 "cells": [
  {
   "cell_type": "markdown",
   "metadata": {},
   "source": [
    "## Stefanie Huckleberry's Mission to Mars"
   ]
  },
  {
   "cell_type": "code",
   "execution_count": 69,
   "metadata": {},
   "outputs": [],
   "source": [
    "#Dependencies\n",
    "\n",
    "def dependencies():\n",
    "    \n",
    "    from splinter import Browser\n",
    "    from bs4 import BeautifulSoup\n",
    "    import requests\n",
    "    import pymongo\n",
    "    import tweepy\n",
    "    import json\n",
    "    import pandas as pd\n",
    "    from config import consumer_key, consumer_secret, access_token, access_token_secret\n",
    "    from collections import OrderedDict"
   ]
  },
  {
   "cell_type": "code",
   "execution_count": 70,
   "metadata": {},
   "outputs": [],
   "source": [
    "#Function to set up the path to the chromedriver.exe for splinter to use\n",
    "\n",
    "def init_browser():\n",
    "    executable_path = {\"executable_path\": \"/Users/stefa/chromedriver.exe\"}\n",
    "    return Browser(\"chrome\", **executable_path, headless=False)\n"
   ]
  },
  {
   "cell_type": "markdown",
   "metadata": {},
   "source": [
    "## Scrape Nasa for Mars Headlines and Text"
   ]
  },
  {
   "cell_type": "code",
   "execution_count": 75,
   "metadata": {},
   "outputs": [],
   "source": [
    "#Function to scrape the Nasa website for the latest news headline\n",
    "\n",
    "def scrape_mars_headline():\n",
    "    browser = init_browser()\n",
    "      \n",
    "    # visit https://mars.nasa.gov/news/\n",
    "    mars_news = \"https://mars.nasa.gov/news/\"\n",
    "    browser.visit(mars_news)\n",
    "    \n",
    "    #store the html in a variable called html    \n",
    "    html = browser.html\n",
    "\n",
    "    # create a soup object from the html.  This will parse the html we pulled from Nasa website.\n",
    "    soup = BeautifulSoup(html, \"html.parser\")\n",
    "   \n",
    "\n",
    "    #Get the latest article posted on the site.  The list_text class has the headline,\n",
    "    # date, and a blurb about the article - \"a teaser\"\n",
    "    \n",
    "    mars_article = soup.find('div', class_='list_text')\n",
    "\n",
    "    #Now that we have the article, we can get the headline, blurb, and date\n",
    "    mars_headline = mars_article.find('div', class_='content_title').text\n",
    "    mars_teaser = mars_article.find('div', class_='article_teaser_body').text\n",
    "    mars_news_date = mars_article.find('div', class_='list_date').text\n",
    "    \n",
    "    print(f\"Latest Headline: {mars_headline}\")\n",
    "    print(f\"Teaser: {mars_teaser}\")\n",
    "    print(f\"Date: {mars_news_date}\")\n",
    "\n",
    "\n",
    "    return mars_headline, mars_teaser, mars_news_date       \n",
    "  "
   ]
  },
  {
   "cell_type": "markdown",
   "metadata": {},
   "source": [
    "# JPL Mars Space Images - Featured Image"
   ]
  },
  {
   "cell_type": "code",
   "execution_count": 81,
   "metadata": {},
   "outputs": [],
   "source": [
    "#Function to scrape the JPL website for an image of Mars\n",
    "\n",
    "def scrape_JPL_image():\n",
    "    \n",
    "    browser = init_browser()\n",
    "      \n",
    "    # visit https://www.jpl.nasa.gov/spaceimages/?search=&category=Mars\n",
    "    mars_jpl = \"https://www.jpl.nasa.gov/spaceimages/?search=&category=Mars\"\n",
    "    browser.visit(mars_jpl)\n",
    "    \n",
    "    #store the html in a variable called html    \n",
    "    html = browser.html\n",
    "\n",
    "    # create a soup object from the html.  This will parse the html we pulled from Nasa website.\n",
    "    soup = BeautifulSoup(html, \"html.parser\")\n",
    "    \n",
    "    #Get the URL for the featured image-full size\n",
    "     \n",
    "    full_size_url = soup.find('a', class_='button fancybox').get('data-fancybox-href')\n",
    "    \n",
    "    \n",
    "    #this returns a link to the jpeg, but the front end https://www.jpl.nasa.gov piece is missing\n",
    "    \n",
    "    #append the front end of the website onto the url\n",
    "    mars_image_url = \"https://www.jpl.nasa.gov\" + full_size_url\n",
    "\n",
    "    print(f\"Mars Featured Image URL from JPL site: {mars_image_url}\")\n",
    "\n",
    "    return mars_image_url\n",
    "    \n"
   ]
  },
  {
   "cell_type": "markdown",
   "metadata": {},
   "source": [
    "## Mars Weather Tweet"
   ]
  },
  {
   "cell_type": "code",
   "execution_count": 79,
   "metadata": {},
   "outputs": [],
   "source": [
    "def mars_weather_tweet():\n",
    "    \n",
    "    # Setup Tweepy API Authentication\n",
    "    auth = tweepy.OAuthHandler(consumer_key, consumer_secret)\n",
    "    auth.set_access_token(access_token, access_token_secret)\n",
    "    api = tweepy.API(auth, parser=tweepy.parsers.JSONParser())\n",
    "\n",
    "    # Target User\n",
    "    target_user = \"MarsWxReport\"\n",
    "\n",
    "    mars_weather_tweet = api.user_timeline(target_user, count=1)[0]\n",
    "\n",
    "    mars_weather = mars_weather_tweet.get('text')\n",
    "    \n",
    "    print(f\"Latest Weather Tweet: {mars_weather}\")\n",
    "    \n",
    "    return mars_weather\n",
    "\n"
   ]
  },
  {
   "cell_type": "markdown",
   "metadata": {},
   "source": [
    "## Mars Facts"
   ]
  },
  {
   "cell_type": "code",
   "execution_count": 82,
   "metadata": {},
   "outputs": [],
   "source": [
    "#scrape the space-facts website to get basic data on the planet Mars\n",
    "\n",
    "def mars_facts():\n",
    "\n",
    "    #store the URL for the space facts website\n",
    "    facts_url = \"https://space-facts.com/mars/\"\n",
    "\n",
    "    #Use pandas to scrape the page for table data\n",
    "    tables = pd.read_html(facts_url)\n",
    "    tables\n",
    "\n",
    "    facts_df = tables[0]\n",
    "    facts_df.columns = ['Fact Type', 'Fact Data']\n",
    "    facts_df\n",
    "    \n",
    "    #Convert the dataframe to an HTML table string\n",
    "\n",
    "    facts_html_table = facts_df.to_html(header=False, index=False)\n",
    "\n",
    "\n",
    "    #strip the \\n characters\n",
    "    facts_html_table = facts_html_table.replace('\\n', '')\n",
    "    \n",
    "    return facts_html_table\n",
    "\n"
   ]
  },
  {
   "cell_type": "markdown",
   "metadata": {},
   "source": [
    "## Mars Hemispheres"
   ]
  },
  {
   "cell_type": "code",
   "execution_count": 61,
   "metadata": {},
   "outputs": [],
   "source": [
    "#scrape the entire 'collapsible results' class so that we can loop through each item\n",
    "\n",
    "#set the browser variable\n",
    "browser = init_browser()\n",
    "\n",
    "# visit https://astrogeology.usgs.gov/search/results?q=hemisphere+enhanced&k1=target&v1=Mars\n",
    "mars_usgs_url = \"https://astrogeology.usgs.gov/search/results?q=hemisphere+enhanced&k1=target&v1=Mars\"\n",
    "browser.visit(mars_usgs_url)\n",
    "\n",
    "#store the html in a variable called usgs_html    \n",
    "usgs_html = browser.html\n",
    "\n",
    "# create a soup object from the html.  This will parse the html we pulled from USGS website.\n",
    "usgs_soup = BeautifulSoup(usgs_html, \"html.parser\")\n",
    "\n",
    "#Get the URL for the featured image-full size\n",
    "\n",
    "product_box = usgs_soup.find('div', class_='collapsible results')\n"
   ]
  },
  {
   "cell_type": "code",
   "execution_count": 62,
   "metadata": {},
   "outputs": [
    {
     "data": {
      "text/plain": [
       "['https://astrogeology.usgs.gov/search/map/Mars/Viking/cerberus_enhanced',\n",
       " 'https://astrogeology.usgs.gov/search/map/Mars/Viking/schiaparelli_enhanced',\n",
       " 'https://astrogeology.usgs.gov/search/map/Mars/Viking/syrtis_major_enhanced',\n",
       " 'https://astrogeology.usgs.gov/search/map/Mars/Viking/valles_marineris_enhanced']"
      ]
     },
     "execution_count": 62,
     "metadata": {},
     "output_type": "execute_result"
    }
   ],
   "source": [
    "#create a list to hold the links to each hemisphere's page\n",
    "\n",
    "hemi_links = []\n",
    "\n",
    "for item in product_box.find_all('div', class_='item'):\n",
    "    hemi_links.append(item.find('a').get('href'))\n",
    "    \n",
    "hemi_links\n",
    "\n",
    "#beginning of url to append\n",
    "link_beg = \"https://astrogeology.usgs.gov\"\n",
    "\n",
    "#create a new list to store the entire url string\n",
    "\n",
    "hemi_urls = []\n",
    "\n",
    "for link in hemi_links:\n",
    "    link = link_beg + link\n",
    "    hemi_urls.append(link)\n",
    "    \n",
    "hemi_urls"
   ]
  },
  {
   "cell_type": "code",
   "execution_count": 60,
   "metadata": {},
   "outputs": [
    {
     "name": "stdout",
     "output_type": "stream",
     "text": [
      "[{'title': 'Valles Marineris Hemisphere', 'img_url': 'http://astropedia.astrogeology.usgs.gov/download/Mars/Viking/valles_marineris_enhanced.tif/full.jpg'}, {'title': 'Valles Marineris Hemisphere', 'img_url': 'http://astropedia.astrogeology.usgs.gov/download/Mars/Viking/valles_marineris_enhanced.tif/full.jpg'}, {'title': 'Valles Marineris Hemisphere', 'img_url': 'http://astropedia.astrogeology.usgs.gov/download/Mars/Viking/valles_marineris_enhanced.tif/full.jpg'}, {'title': 'Valles Marineris Hemisphere', 'img_url': 'http://astropedia.astrogeology.usgs.gov/download/Mars/Viking/valles_marineris_enhanced.tif/full.jpg'}]\n"
     ]
    }
   ],
   "source": [
    "#visit each hemisphere's links using Splinter and get the images\n",
    "\n",
    "\n",
    "#Create an empty list to store the dictionaries for all hemispheres\n",
    "hemisphere_image_urls = []\n",
    "\n",
    "#Create an empty list to store the title and image link for each hemisphere\n",
    "hemi_dict = {}\n",
    "\n",
    "\n",
    "for url in hemi_urls:\n",
    "    browser.visit(url)\n",
    "    hemi_html = browser.html\n",
    "\n",
    "    # create a soup object from the html. \n",
    "    hemi_soup = BeautifulSoup(hemi_html, \"html.parser\")\n",
    "    \n",
    "    #store the title\n",
    "    title = hemi_soup.find('h2', class_='title').text\n",
    "    title = title.replace(' Enhanced', '')\n",
    "     \n",
    "    #go to the downloads section to get the list of images and pick the full image\n",
    "    hemi_download = hemi_soup.find('div', class_='downloads')\n",
    "    hemi_list = hemi_download.find('li')\n",
    "    hemi_image = hemi_list.a['href']\n",
    "    \n",
    "    hemi_dict['title'] = title\n",
    "    \n",
    "    hemi_dict['img_url'] = hemi_image\n",
    "    \n",
    "    hemisphere_image_urls.append(hemi_dict)\n",
    "    \n",
    "print(hemisphere_image_urls) \n",
    "\n",
    "\n"
   ]
  },
  {
   "cell_type": "markdown",
   "metadata": {},
   "source": [
    "# Main "
   ]
  },
  {
   "cell_type": "code",
   "execution_count": 83,
   "metadata": {},
   "outputs": [
    {
     "name": "stdout",
     "output_type": "stream",
     "text": [
      "Latest Headline: NASA to Host Briefing on November Mars InSight Landing\n",
      "Teaser: A briefing on NASA's upcoming InSight Mars landing will air on Wed. Oct. 31 at 1:30 p.m. EDT (10:30 a.m. PDT) on NASA TV, the agency's website and NASA InSight Facebook Page.\n",
      "Date: October 25, 2018\n",
      "Mars Featured Image URL from JPL site: https://www.jpl.nasa.gov/spaceimages/images/mediumsize/PIA18182_ip.jpg\n",
      "Latest Weather Tweet: Sol 2208 (2018-10-22), high -18C/0F, low -75C/-102F, pressure at 8.80 hPa, daylight 06:08-18:26\n",
      "{'nasa_headline': 'NASA to Host Briefing on November Mars InSight Landing', 'nasa_teaser': \"A briefing on NASA's upcoming InSight Mars landing will air on Wed. Oct. 31 at 1:30 p.m. EDT (10:30 a.m. PDT) on NASA TV, the agency's website and NASA InSight Facebook Page.\", 'nasa_date': 'October 25, 2018', 'featured_image': 'https://www.jpl.nasa.gov/spaceimages/images/mediumsize/PIA18182_ip.jpg', 'weather': 'Sol 2208 (2018-10-22), high -18C/0F, low -75C/-102F, pressure at 8.80 hPa, daylight 06:08-18:26'}\n"
     ]
    }
   ],
   "source": [
    "#this is the main procedure\n",
    "\n",
    "def scrape():\n",
    "    #Import dependencies\n",
    "    dependencies()\n",
    "    \n",
    "    #Create the dictionary that will store all of the Mars information we scrape\n",
    "    mars_data = {}\n",
    "    \n",
    "    #scrape Nasa data\n",
    "    headline, teaser, date = scrape_mars_headline()\n",
    "\n",
    "    mars_data[\"nasa_headline\"] = headline\n",
    "    mars_data[\"nasa_teaser\"] = teaser\n",
    "    mars_data[\"nasa_date\"] = date\n",
    "    \n",
    "    #scape JPL for featured image\n",
    "    \n",
    "    featured_image = scrape_JPL_image()\n",
    "    mars_data[\"featured_image\"] = featured_image\n",
    "    \n",
    "    #scrape Twitter for the latest Mars weather tweet\n",
    "    \n",
    "    mars_weather = mars_weather_tweet()\n",
    "    mars_data[\"weather\"] = mars_weather\n",
    "\n",
    "   \n",
    "    #scrape Mars Facts website to store basic facts on the planet\n",
    "    \n",
    "    facts_html_table = mars_facts()\n",
    "    mars_data[\"facts_table\"] = facts_html_table\n",
    "    \n",
    "    print(mars_data) \n",
    "    \n",
    "    \n",
    "    \n",
    "scrape()\n",
    "    \n",
    "    "
   ]
  },
  {
   "cell_type": "code",
   "execution_count": null,
   "metadata": {},
   "outputs": [],
   "source": []
  },
  {
   "cell_type": "code",
   "execution_count": null,
   "metadata": {},
   "outputs": [],
   "source": []
  }
 ],
 "metadata": {
  "kernelspec": {
   "display_name": "Python [conda env:PythonData]",
   "language": "python",
   "name": "conda-env-PythonData-py"
  },
  "language_info": {
   "codemirror_mode": {
    "name": "ipython",
    "version": 3
   },
   "file_extension": ".py",
   "mimetype": "text/x-python",
   "name": "python",
   "nbconvert_exporter": "python",
   "pygments_lexer": "ipython3",
   "version": "3.6.5"
  }
 },
 "nbformat": 4,
 "nbformat_minor": 2
}
